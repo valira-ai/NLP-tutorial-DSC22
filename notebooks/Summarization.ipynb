{
  "nbformat": 4,
  "nbformat_minor": 0,
  "metadata": {
    "colab": {
      "provenance": []
    },
    "kernelspec": {
      "name": "python3",
      "display_name": "Python 3"
    },
    "language_info": {
      "name": "python"
    },
    "accelerator": "GPU",
    "gpuClass": "standard"
  },
  "cells": [
    {
      "cell_type": "markdown",
      "source": [
        "# Abstractive summarization - fine-tuned BART\n",
        "\n",
        "In this notebook we'll experiment with a model trained to summarize [CNN and DailyMail news articles](https://huggingface.co/datasets/cnn_dailymail)."
      ],
      "metadata": {
        "id": "VeUXKD9PgS5c"
      }
    },
    {
      "cell_type": "markdown",
      "source": [
        "First things first, let's make sure we have a GPU instance in this Colab session:\n",
        "\n",
        "* `Edit -> Notebook settings -> Hardware accelerator` must be set to `GPU`\n",
        "\n",
        "* if needed, reinitiliaze the session by clicking `Connect` in top right corner\n",
        "\n",
        "After the session is initilized, we can check our assigned GPU with the following command:"
      ],
      "metadata": {
        "id": "fdgdu3Iktvpz"
      }
    },
    {
      "cell_type": "code",
      "source": [
        "!nvidia-smi"
      ],
      "metadata": {
        "id": "O9bNu2VetvSY"
      },
      "execution_count": null,
      "outputs": []
    },
    {
      "cell_type": "code",
      "source": [
        "%%capture\n",
        "!pip install transformers"
      ],
      "metadata": {
        "id": "hQa8tyOgiO1U"
      },
      "execution_count": 2,
      "outputs": []
    },
    {
      "cell_type": "code",
      "source": [
        "import nltk\n",
        "nltk.download('punkt')"
      ],
      "metadata": {
        "id": "jYQtpggMuSxn"
      },
      "execution_count": null,
      "outputs": []
    },
    {
      "cell_type": "code",
      "source": [
        "from nltk import word_tokenize\n",
        "from transformers import pipeline"
      ],
      "metadata": {
        "id": "2iKgQsMLkUoD"
      },
      "execution_count": 9,
      "outputs": []
    },
    {
      "cell_type": "markdown",
      "source": [
        "## Testing"
      ],
      "metadata": {
        "id": "k4JfHj4pnqdh"
      }
    },
    {
      "cell_type": "markdown",
      "source": [
        "Let's evaluate the summarization model on some recent CNN articles:\n",
        "- https://edition.cnn.com/2022/11/04/sport/nikola-jokic-nba-record-triple-double-center-spt-intl/index.html\n",
        "- https://edition.cnn.com/2022/11/03/sport/luka-doncic-30-point-record-mavericks-spt-intl/index.html\n",
        "- https://edition.cnn.com/2022/11/13/motorsport/george-russell-sao-paolo-grand-prix-spt-intl/index.html"
      ],
      "metadata": {
        "id": "_wtNfGAdvLqR"
      }
    },
    {
      "cell_type": "code",
      "source": [
        "summarize_pipeline = pipeline(task=\"summarization\", model=\"sshleifer/distilbart-cnn-12-6\", device=0)"
      ],
      "metadata": {
        "id": "jASCge17nrYw"
      },
      "execution_count": 11,
      "outputs": []
    },
    {
      "cell_type": "code",
      "source": [
        "def summarize_article(article):\n",
        "  summary = summarize_pipeline(article)[0][\"summary_text\"]\n",
        "  print(summary)\n",
        "  print(f\"Number of words:\\n\\t- article - {len(word_tokenize(article))}\\n\\t- summary - {len(word_tokenize(summary))}\")"
      ],
      "metadata": {
        "id": "FNniTSXLtKRW"
      },
      "execution_count": 12,
      "outputs": []
    },
    {
      "cell_type": "code",
      "source": [
        "article = \"\"\"George Russell won his maiden Grand Prix on Sunday after a collision-ridden race in Brazil. Russell, who won Saturday’s sprint race to start on pole, led from the opening lap, showing why he’s seen as one of Formula 1’s most exciting prospects. Behind him though, a crazy race was unfolding with crashes from the opening lap, including a coming together between rivals Max Verstappen and Lewis Hamilton, for which Verstappen earned a five-second time penalty. At the end of all the drama, it was a Mercedes one-two with Hamilton finishing second behind Russell and Ferrari driver Carlos Sainz third. With one race left on the 2022 calendar, Russell moves up to fourth in the driver’s standings, a place ahead of eight-time world champion and teammate Hamilton. “What an amazing feeling. A huge thank you to the whole team for making this possible,” Russell said afterwards. “It’s been an emotional rollercoaster this season. “This race, I felt in control. Lewis was super-fast, and when I saw the safety car, I thought: ‘Oh Jesus, this is going to be a really difficult end.’ He put me under so much pressure. But so happy to go away with the victory. “I’m speechless, on the in-lap, all of these memories sort of come flooding back, starting off with my mum and dad in go-karting, and going through all the support I’ve had from the rest of my family, my girlfriend, my trainer, my manager. I can’t thank them enough. Yeah, super proud.” The race began with some dramatic, collision-ridden first few laps at the Autódromo José Carlos Pace. First, Daniel Ricciardo crashed into the back of Kevin Magnussen, with both drivers ruled out for the rest of the race as a result of the damage suffered. After the restart following the safety car, all hell broke loose. Lewis Hamilton and Max Verstappen collided shortly after, both spinning out. Hamilton was able to continue without pitting whereas Verstappen was forced to pit before returning to the race near the back of the pack. “That was no racing incident mate,” Hamilton could be heard saying on his team radio. Minutes later, it was announced that Verstappen had been handed a five-second time penalty for causing a collision. The Dutch driver couldn’t hide his incredulity when he was told of the outcome of the investigation. “Where did they expect me to go?” he said. Elsewhere, McLaren driver Lando Norris collided with Charles Leclerc, slamming the Ferrari driver into the barriers. Leclerc was forced to pit to change his front wing, while Norris was also handed out a five-second penalty for his involvement in the crash. For Russell, who began the race on pole, he remained unscathed during the early laps and managed to maintain his lead for the rest of the way in front of the chasing pack. Even with a late safety car bunching the pack up, Russell was faster than his more experienced teammate Hamilton, racing home for his first ever Grand Prix victory. The victory at the 2022 season’s penultimate race continues Mercedes’ late year resurgence after a very slow start.\"\"\""
      ],
      "metadata": {
        "id": "-rzS5gTEoF4u"
      },
      "execution_count": 13,
      "outputs": []
    },
    {
      "cell_type": "code",
      "source": [
        "summarize_article(article)"
      ],
      "metadata": {
        "id": "YRMYVLB1oRi3"
      },
      "execution_count": null,
      "outputs": []
    },
    {
      "cell_type": "code",
      "source": [
        "article = \"\"\"Luka Doncic continued his scorching start to the 2022-23 NBA season and matched a record which only two NBA Hall of Famers have recorded. Doncic scored 33 points in the Dallas Mavericks’ 103-100 win against the Utah Jazz, meaning he’s now scored over 30 points in all seven of his games this season. In doing so, the 23-year-old became just the third player in NBA history – after Jack Twyman did it once and Wilt Chamberlain did it twice – to score over 30 points in the first seven games of a new season – and the first in almost 60 years. Previously, four-time NBA MVP Chamberlain had been the last to reach the mark, doing so in 1962-63. Chamberlain achieved it first in 1959-60, in the same season which Twyman did it. Doncic has regularly rubbed shoulders with the legends of the NBA in the few years he’s been in the NBA, consistently breaking records set by the greats of the game. And after the victory, he acknowledged the ever-presence of the former San Francisco Warriors, Philadelphia 76ers and Los Angeles Lakers great. “I always hear Wilt Chamberlain. He’s always there,” Doncic said afterwards. Doncic added: “I just wished to play in the NBA. This is really a dream for me. “I couldn’t be happier just to play basketball and to do my job, and that’s it. I’m just happy to play basketball and when we win games, it’s even better.” Doncic has some way to go to equal the record of consecutive 30-point games to open a season. Chamberlain holds the record with 23 straight games in 1962-63. He is also second on the list with eight games in 1959-60. The Slovenian was many people’s favorites for the MVP award this season, and has begun in electrifying fashion, averaging 36.1 points. Mavericks head coach Jason Kidd praised Doncic after his all-round performance provided the driving force behind Dallas’ victory on Wednesday. “I think it’s special when you talk about MJ (Michael Jordan) and Wilt,” said Kidd, likening Doncic’s influence at the Mavs as similar to that of the former Chicago Bulls star and that storied team. “That’s rare air. We get to see that on a nightly basis, so that’s pretty cool. A 23-year-old kid that is playing at this level is really, really kind of special and cool to see. “He can do it in so many ways when you talk about posting up or getting to the basket or shooting the three or shooting the little step-back. “It’s really cool to watch and it just shows the focus that he has right now. He’s carrying the team and putting the team in a position to win.”\"\"\""
      ],
      "metadata": {
        "id": "dKfjxpiBp2-N"
      },
      "execution_count": 15,
      "outputs": []
    },
    {
      "cell_type": "code",
      "source": [
        "summarize_article(article)"
      ],
      "metadata": {
        "id": "eNZZWoN4u1Gx"
      },
      "execution_count": null,
      "outputs": []
    },
    {
      "cell_type": "code",
      "source": [
        "article = \"\"\"Nikola Jokic broke new ground on Thursday as he recorded yet another triple-double in the Denver Nuggets’ 122-110 win over the Oklahoma City Thunder. The back-to-back MVP scored 15 points with 13 rebounds and 13 assists to overtake Wilt Chamberlain for the most triple-doubles ever recorded by a center. Now on 79 for his career, Jokic sits sixth in the all-time list behind LeBron James, Jason Kidd, Magic Johnson, Oscar Robertson and Russell Westbrook. Despite his noteworthy achievement, the 27-year-old was not getting carried away. “It’s nice being compared to a guy who is probably one of the best ever,” Jokic said in an on-court interview when asked for his thoughts on overtaking Chamberlain. “It’s some kind of legacy that I leave behind, so it’s nice.” Jokic, in his eighth season of the NBA, had a slow start to Thursday’s game against the Thunder, scoring just two points in the first half. However, his Nuggets team went into the second half ahead thanks to the impressive performance of Aaron Gordon, who finished the night on 27 points. Jamal Murray also added 24 points for the Nuggets, who bounced back from defeat against the LA Lakers. The Thunder fought back in the third quarter on Thursday and were leading 95-93 heading into the fourth but the Nuggets reestablished their lead before the end. “Was it a complete 48 minutes? No,” Nuggets coach Michael Malone told reporters after the game. “But the thing I’m most proud about is that even when they were on that huge run in the third quarter and we just seemed to stop playing any defense and we turned the ball over ad nauseam, we regrouped. We didn’t panic.” The Nuggets will host San Antonio Spurs on Saturday in its next game with Jokic chasing down James, who sits fifth in the all-time triple-double list on 105.\"\"\""
      ],
      "metadata": {
        "id": "uK44evlYqVr3"
      },
      "execution_count": 17,
      "outputs": []
    },
    {
      "cell_type": "code",
      "source": [
        "summarize_article(article)"
      ],
      "metadata": {
        "id": "cSLl9dWavKwy"
      },
      "execution_count": null,
      "outputs": []
    }
  ]
}