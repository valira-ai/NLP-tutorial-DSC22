{
  "nbformat": 4,
  "nbformat_minor": 0,
  "metadata": {
    "colab": {
      "provenance": []
    },
    "kernelspec": {
      "name": "python3",
      "display_name": "Python 3"
    },
    "language_info": {
      "name": "python"
    },
    "accelerator": "GPU",
    "gpuClass": "standard"
  },
  "cells": [
    {
      "cell_type": "markdown",
      "source": [
        "# Sentiment analysis - fine-tuning BERT\n",
        "\n",
        "In this notebook we'll take a look at the process needed to fine-tune a pretrained BERT model to detect the sentiment of a piece of text. Our goal will be to classify the polarity of [IMDB](https://www.imdb.com/) movie reviews, we'll be working with this [dataset](https://huggingface.co/datasets/imdb). The techniques we'll discuss also apply to a more general text classification.\n",
        "\n",
        "\n",
        "<div>\n",
        "<img src=\"https://raw.githubusercontent.com/valira-ai/NLP-tutorial-DSC22/main/figures/classification.png\" width=\"700\"/>\n",
        "</div>"
      ],
      "metadata": {
        "id": "dsSt1ONMz-8j"
      }
    },
    {
      "cell_type": "markdown",
      "source": [
        "First things first, let's make sure we have a GPU instance in this Colab session:\n",
        "\n",
        "* `Edit -> Notebook settings -> Hardware accelerator` must be set to `GPU`\n",
        "\n",
        "* if needed, reinitiliaze the session by clicking `Connect` in top right corner\n",
        "\n",
        "After the session is initilized, we can check our assigned GPU with the following command:\n",
        "\n"
      ],
      "metadata": {
        "id": "mhEUupc90qxi"
      }
    },
    {
      "cell_type": "code",
      "execution_count": null,
      "metadata": {
        "id": "_FD2kH94qeCS"
      },
      "outputs": [],
      "source": [
        "!nvidia-smi"
      ]
    },
    {
      "cell_type": "code",
      "source": [
        "%%capture\n",
        "!pip install transformers  # Huggingface library for transformer models\n",
        "!pip install datasets  # Huggingface dataset library\n",
        "!pip install gdown  # downloading from Google Drive"
      ],
      "metadata": {
        "id": "oj0ukclmqzMo"
      },
      "execution_count": null,
      "outputs": []
    },
    {
      "cell_type": "code",
      "source": [
        "import numpy as np\n",
        "\n",
        "from datasets import DatasetDict, load_dataset\n",
        "from transformers import AutoModelForSequenceClassification, AutoTokenizer, EarlyStoppingCallback, Trainer, TrainingArguments"
      ],
      "metadata": {
        "id": "bIEJUylprFsm"
      },
      "execution_count": null,
      "outputs": []
    },
    {
      "cell_type": "markdown",
      "source": [
        "## Dataset"
      ],
      "metadata": {
        "id": "AcrpolmM1LY1"
      }
    },
    {
      "cell_type": "markdown",
      "source": [
        "Let's download the dataset of IMDB reviews:"
      ],
      "metadata": {
        "id": "2RYbFDx11Tes"
      }
    },
    {
      "cell_type": "code",
      "source": [
        "raw_dataset = load_dataset(\"imdb\")"
      ],
      "metadata": {
        "id": "pY_1ZSVSrQF2"
      },
      "execution_count": null,
      "outputs": []
    },
    {
      "cell_type": "code",
      "source": [
        "split_train = raw_dataset[\"train\"].train_test_split(test_size=0.2)\n",
        "dataset = DatasetDict({\n",
        "    \"train\": split_train[\"train\"],\n",
        "    \"val\": split_train[\"test\"],\n",
        "    \"test\": raw_dataset[\"test\"]\n",
        "})"
      ],
      "metadata": {
        "id": "k5q7OlXKuSHY"
      },
      "execution_count": null,
      "outputs": []
    },
    {
      "cell_type": "code",
      "source": [
        "dataset[\"train\"].features"
      ],
      "metadata": {
        "id": "DpG_B0CrrcVG"
      },
      "execution_count": null,
      "outputs": []
    },
    {
      "cell_type": "code",
      "source": [
        "dataset[\"train\"][2]"
      ],
      "metadata": {
        "id": "u6sRIWnxskHp"
      },
      "execution_count": null,
      "outputs": []
    },
    {
      "cell_type": "markdown",
      "source": [
        "Tokenizing our data - preparing model inputs:"
      ],
      "metadata": {
        "id": "OErmijFP2nOm"
      }
    },
    {
      "cell_type": "code",
      "source": [
        "tokenizer = AutoTokenizer.from_pretrained(\"distilbert-base-uncased\")"
      ],
      "metadata": {
        "id": "21X0-Ru8ytDd"
      },
      "execution_count": null,
      "outputs": []
    },
    {
      "cell_type": "code",
      "source": [
        "def tokenize(examples):\n",
        "    return tokenizer(examples[\"text\"], padding=\"max_length\", truncation=True)"
      ],
      "metadata": {
        "id": "anoifgDJzGqJ"
      },
      "execution_count": null,
      "outputs": []
    },
    {
      "cell_type": "code",
      "source": [
        "tok_dataset = dataset.map(tokenize, batched=True)"
      ],
      "metadata": {
        "id": "1JrNmTN5zSgw"
      },
      "execution_count": null,
      "outputs": []
    },
    {
      "cell_type": "markdown",
      "source": [
        "## Training (don't run during tutorial)"
      ],
      "metadata": {
        "id": "kHDFWKnF3AyP"
      }
    },
    {
      "cell_type": "code",
      "source": [
        "model = AutoModelForSequenceClassification.from_pretrained(\"distilbert-base-uncased\", num_labels=dataset[\"train\"].features[\"label\"].num_classes)"
      ],
      "metadata": {
        "id": "6hcKYiGWzeF5"
      },
      "execution_count": null,
      "outputs": []
    },
    {
      "cell_type": "code",
      "source": [
        "# optional if you want to save your models to Google Drive\n",
        "from google.colab import drive\n",
        "drive.mount(\"/content/drive/\")"
      ],
      "metadata": {
        "id": "zjdVv-jMI2K3"
      },
      "execution_count": null,
      "outputs": []
    },
    {
      "cell_type": "code",
      "source": [
        "args = TrainingArguments(\n",
        "    output_dir=\"/content/drive/MyDrive/ds_conference/BERT-sentiment/\",\n",
        "    evaluation_strategy=\"steps\",\n",
        "    eval_steps=250,\n",
        "    save_total_limit=1,\n",
        "    learning_rate=5e-5,\n",
        "    per_device_train_batch_size=32,\n",
        "    per_device_eval_batch_size=64,\n",
        "    num_train_epochs=5,\n",
        "    weight_decay=0.0001,\n",
        "    load_best_model_at_end=True,\n",
        "    metric_for_best_model=\"eval_loss\"\n",
        ")"
      ],
      "metadata": {
        "id": "kXlq8R9I0HqJ"
      },
      "execution_count": null,
      "outputs": []
    },
    {
      "cell_type": "code",
      "source": [
        "def compute_metrics(eval_pred):\n",
        "    pred = np.argmax(eval_pred.predictions, axis=-1)\n",
        "    accuracy = np.mean(pred == eval_pred.label_ids)\n",
        "    \n",
        "    return {\"accuracy\": accuracy}"
      ],
      "metadata": {
        "id": "LHsMY8ynJRyL"
      },
      "execution_count": null,
      "outputs": []
    },
    {
      "cell_type": "code",
      "source": [
        "trainer = Trainer(\n",
        "    model,\n",
        "    args,\n",
        "    train_dataset=tok_dataset[\"train\"],\n",
        "    eval_dataset=tok_dataset[\"val\"],\n",
        "    compute_metrics=compute_metrics,\n",
        "    callbacks = [EarlyStoppingCallback(early_stopping_patience=3)]\n",
        ")"
      ],
      "metadata": {
        "id": "3BIRV3ZhJMDN"
      },
      "execution_count": null,
      "outputs": []
    },
    {
      "cell_type": "code",
      "source": [
        "trainer.train()"
      ],
      "metadata": {
        "id": "bbEe_kkZJ61w"
      },
      "execution_count": null,
      "outputs": []
    },
    {
      "cell_type": "markdown",
      "source": [
        "## Evaluation"
      ],
      "metadata": {
        "id": "RMXKbP1CRgxc"
      }
    },
    {
      "cell_type": "code",
      "source": [
        "!mkdir /content/bert-imdb\n",
        "!gdown -O /content/bert-imdb/config.json https://drive.google.com/uc?id=1-XtrUCTwyBnG79LpOYe6nfFeREg9hvfm\n",
        "!gdown -O /content/bert-imdb/pytorch_model.bin https://drive.google.com/uc?id=1-UnnVyANUEBULAhSBkZ9_fKKCXugV751"
      ],
      "metadata": {
        "id": "qJuGdGqGSoKc"
      },
      "execution_count": null,
      "outputs": []
    },
    {
      "cell_type": "code",
      "source": [
        "model = AutoModelForSequenceClassification.from_pretrained(\"bert-imdb\")"
      ],
      "metadata": {
        "id": "xb7Es1vdRir1"
      },
      "execution_count": null,
      "outputs": []
    },
    {
      "cell_type": "code",
      "source": [
        "def compute_metrics(eval_pred):\n",
        "    pred = np.argmax(eval_pred.predictions, axis=-1)\n",
        "    accuracy = np.mean(pred == eval_pred.label_ids)\n",
        "    \n",
        "    return {\"accuracy\": accuracy}"
      ],
      "metadata": {
        "id": "FsqtHYlPTvAK"
      },
      "execution_count": null,
      "outputs": []
    },
    {
      "cell_type": "code",
      "source": [
        "args = TrainingArguments(\"test\", per_device_eval_batch_size=64)\n",
        "\n",
        "trainer = Trainer(\n",
        "    model,\n",
        "    args,\n",
        "    eval_dataset=tok_dataset[\"test\"].shuffle(42).select(range(2000)),  # for tutorial purposes, we subsample the test data\n",
        "    compute_metrics=compute_metrics\n",
        ")"
      ],
      "metadata": {
        "id": "6575pcXPT3DM"
      },
      "execution_count": null,
      "outputs": []
    },
    {
      "cell_type": "code",
      "source": [
        "trainer.evaluate()"
      ],
      "metadata": {
        "id": "USY6H-z2T6DJ"
      },
      "execution_count": null,
      "outputs": []
    },
    {
      "cell_type": "markdown",
      "source": [
        "## A bit more testing:)"
      ],
      "metadata": {
        "id": "ToUM9uDyU-A6"
      }
    },
    {
      "cell_type": "code",
      "source": [
        "from transformers import AutoConfig, pipeline"
      ],
      "metadata": {
        "id": "CNDMM4uUXpJA"
      },
      "execution_count": null,
      "outputs": []
    },
    {
      "cell_type": "code",
      "source": [
        "# just adds id2label to model config\n",
        "config = AutoConfig.from_pretrained(\"bert-imdb\")\n",
        "config.id2label = {\"0\": \"Negative\", \"1\": \"Positive\"}\n",
        "config.save_pretrained(\"bert-imdb\")"
      ],
      "metadata": {
        "id": "a091YkRGXWfz"
      },
      "execution_count": null,
      "outputs": []
    },
    {
      "cell_type": "code",
      "source": [
        "classifier = pipeline(\"sentiment-analysis\", model=\"bert-imdb\", tokenizer=\"distilbert-base-uncased\", device=0)"
      ],
      "metadata": {
        "id": "e3a1wvFJVFOT"
      },
      "execution_count": null,
      "outputs": []
    },
    {
      "cell_type": "code",
      "source": [
        "classifier(\"This movie sucks!\")"
      ],
      "metadata": {
        "id": "3iU6odTyVk4x"
      },
      "execution_count": null,
      "outputs": []
    },
    {
      "cell_type": "code",
      "source": [
        "classifier(\"This movie is great!\")"
      ],
      "metadata": {
        "id": "_h1rwcNVVp1H"
      },
      "execution_count": null,
      "outputs": []
    },
    {
      "cell_type": "code",
      "source": [
        "classifier(\"I don't think this movie is good.\")"
      ],
      "metadata": {
        "id": "WnX96jJ1WreV"
      },
      "execution_count": null,
      "outputs": []
    }
  ]
}